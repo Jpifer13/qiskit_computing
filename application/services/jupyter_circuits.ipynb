{
 "metadata": {
  "language_info": {
   "codemirror_mode": {
    "name": "ipython",
    "version": 3
   },
   "file_extension": ".py",
   "mimetype": "text/x-python",
   "name": "python",
   "nbconvert_exporter": "python",
   "pygments_lexer": "ipython3",
   "version": 3
  },
  "orig_nbformat": 2
 },
 "nbformat": 4,
 "nbformat_minor": 2,
 "cells": [
  {
   "cell_type": "code",
   "execution_count": null,
   "metadata": {},
   "outputs": [],
   "source": [
    "import qiskit as q\n",
    "\n",
    "circuit = q.QuantumCircuit(2, 2)  # 2 qubits, 2 classical bits\n",
    "\n",
    "# currently: 0, 0\n",
    "circuit.x(0)  # Not gate. Think of this as 1, 0... x=True, y=False so x=y False\n",
    "\n",
    "circuit.cx(0, 1)  # cnot, controlled not. Flips 2nd qubit value IF and only if 1st qubit is a 1\n",
    "# So now what we should have is a 1, 1\n",
    "\n",
    "# Know that before measure if qubits are in superposition, meaning the qubits are in every posistion,\n",
    "# when we take this measurement the fall out of superposition because they are now observed\n",
    "circuit.measure([0, 1], [0, 1])  # classify how the qubit register is going to map to the classical register\n",
    "# So what the above line means is that we take the qubit at index 0 and map it to the classical index 0\n",
    "# and the same with the second. I think this needs to be done because a qubit holds more \"indeces\" then \n",
    "# the classical bit so we need to define, or map, it how we want. So this acts as a translater between quantum\n",
    "# language and python\n",
    "\n",
    "# circuit.draw()  # This will give an ascii representation of the circuit\n",
    "circuit.draw(output='mpl')  # This makes the output using matplotlib\n",
    "\n",
    "\n",
    "26.04\n"
   ]
  }
 ]
}